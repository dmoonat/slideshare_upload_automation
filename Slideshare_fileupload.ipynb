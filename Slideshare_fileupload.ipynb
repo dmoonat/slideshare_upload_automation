{
 "cells": [
  {
   "cell_type": "code",
   "execution_count": null,
   "metadata": {},
   "outputs": [],
   "source": [
    "import requests\n",
    "import selenium\n",
    "from selenium import webdriver\n",
    "from selenium.webdriver.common.keys import Keys\n",
    "import time"
   ]
  },
  {
   "cell_type": "code",
   "execution_count": null,
   "metadata": {},
   "outputs": [],
   "source": [
    "driver=webdriver.Chrome(r'C:\\Users\\user\\AppData\\Local\\Programs\\Python\\Python35\\Scripts\\chromedriver.exe')\n",
    "url='https://www.slideshare.net/login'\n",
    "driver.get(url)"
   ]
  },
  {
   "cell_type": "code",
   "execution_count": null,
   "metadata": {},
   "outputs": [],
   "source": [
    "#login\n",
    "elem = driver.find_element_by_name(\"user_login\") # Find the Login box\n",
    "elem.send_keys(\"Administrator\")\n",
    "elem = driver.find_element_by_name(\"user_password\")\n",
    "elem.send_keys(\"Administrator\" + Keys.RETURN)\n",
    "driver.find_element_by_xpath('//*[@id=\"login_from_loginpage\"]').click()"
   ]
  },
  {
   "cell_type": "code",
   "execution_count": null,
   "metadata": {},
   "outputs": [],
   "source": [
    "#login from linkedin\n",
    "window_before = driver.window_handles[0]\n",
    "driver.find_element_by_xpath('//*[@id=\"pagekey-slideshare_desktop_other\"]/div[2]/div/div[3]/div[1]/div/div/div[1]/a').click()\n",
    "window_after = driver.window_handles[1]\n",
    "driver.switch_to.window(window_after)\n",
    "time.sleep(5)"
   ]
  },
  {
   "cell_type": "code",
   "execution_count": null,
   "metadata": {},
   "outputs": [],
   "source": [
    "elem = driver.find_element_by_name(\"session_key\") # Find the linkedIn_Login box\n",
    "elem.send_keys(\"Administrator\")\n",
    "elem = driver.find_element_by_name(\"session_password\")\n",
    "elem.send_keys(\"Administrator\" + Keys.RETURN)"
   ]
  },
  {
   "cell_type": "code",
   "execution_count": null,
   "metadata": {},
   "outputs": [],
   "source": [
    "driver.switch_to.window(window_before)\n",
    "#upload file\n",
    "upload=driver.find_element_by_xpath('//*[@id=\"main-nav\"]/nav/section/ul[1]/li[1]/a')\n",
    "upload.click()"
   ]
  },
  {
   "cell_type": "code",
   "execution_count": null,
   "metadata": {},
   "outputs": [],
   "source": [
    "filename=[]  #insert file name with their path to upload in filename list\n",
    "description=[] #description of each file corresponding to same index as of file name\n",
    "category=[] #category corresponding to file\n",
    "n=len(filename)\n",
    "for i in range(n):   #n number of file to upload\n",
    "    driver.get('https://www.slideshare.net/upload?from_source=loggedin_profile_innerpages')\n",
    "    time.sleep(2)\n",
    "    driver.find_element_by_class_name('fileupload').send_keys(filename[i])\n",
    "    driver.find_element_by_class_name('description').send_keys(description[i])\n",
    "    driver.find_element_by_class_name('top_categories').send_keys(category[i])\n",
    "    time.sleep(20)\n",
    "    driver.find_element_by_class_name('publish').click()\n",
    "    time.sleep(5)"
   ]
  },
  {
   "cell_type": "code",
   "execution_count": null,
   "metadata": {},
   "outputs": [],
   "source": [
    "driver.quit()"
   ]
  }
 ],
 "metadata": {
  "kernelspec": {
   "display_name": "Python 3",
   "language": "python",
   "name": "python3"
  },
  "language_info": {
   "codemirror_mode": {
    "name": "ipython",
    "version": 3
   },
   "file_extension": ".py",
   "mimetype": "text/x-python",
   "name": "python",
   "nbconvert_exporter": "python",
   "pygments_lexer": "ipython3",
   "version": "3.6.4"
  }
 },
 "nbformat": 4,
 "nbformat_minor": 2
}
